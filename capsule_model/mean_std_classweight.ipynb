{
 "cells": [
  {
   "cell_type": "code",
   "execution_count": 2,
   "id": "b88c8443-d0a6-404d-a173-5fadff1a862e",
   "metadata": {},
   "outputs": [
    {
     "name": "stdout",
     "output_type": "stream",
     "text": [
      "Compute mean and variance for training data.\n",
      "3070\n",
      "mean&std:([0.392963, 0.25815183, 0.16140047], [0.29120484, 0.20715646, 0.14275084])\n",
      "\n",
      "\n",
      "start\n"
     ]
    },
    {
     "name": "stderr",
     "output_type": "stream",
     "text": [
      "\n",
      "KeyboardInterrupt\n",
      "\n"
     ]
    }
   ],
   "source": [
    "import torch\n",
    "from torchvision.datasets import ImageFolder\n",
    "from torchvision import datasets, models, transforms\n",
    "\n",
    "def getStat(train_data):\n",
    "    '''\n",
    "    Compute mean and variance for training data\n",
    "    :param train_data: 自定义类Dataset(或ImageFolder即可)\n",
    "    :return: (mean, std)\n",
    "    '''\n",
    "    print('Compute mean and variance for training data.')\n",
    "    print(len(train_data))\n",
    "    train_loader = torch.utils.data.DataLoader(\n",
    "        train_data, batch_size=1, shuffle=False)\n",
    "    \n",
    "    mean = torch.zeros(3)\n",
    "    std = torch.zeros(3)\n",
    "    for X, _ in train_loader:\n",
    "        for d in range(3):\n",
    "            mean[d] += X[:, d, :, :].mean()\n",
    "            std[d] += X[:, d, :, :].std()\n",
    "    mean.div_(len(train_data))\n",
    "    std.div_(len(train_data))\n",
    "    return list(mean.numpy()), list(std.numpy())\n",
    "\n",
    "def get_weight(_train_dataset):\n",
    "    dataloader = torch.utils.data.DataLoader(_train_dataset, batch_size=1)\n",
    "    class_counts = [0 for i in range(len(_train_dataset.classes))]\n",
    "    for _, label in dataloader:\n",
    "        class_counts[label.item()] += 1\n",
    "    # 计算每个类别的样本权重\n",
    "    total_samples = sum(class_counts)\n",
    "    class_weights = [total_samples / count for count in class_counts]\n",
    "    \n",
    "    return torch.FloatTensor(class_weights)\n",
    "\n",
    "\n",
    "if __name__ == '__main__':\n",
    "    train_dataset = ImageFolder(root='../data/mixedKID_CADCAP', transform=transforms.Compose([transforms.Resize((224, 224)),transforms.ToTensor()]))\n",
    "    print(f\"mean&std:{getStat(train_dataset)}\\n\\n\")\n",
    "    print(\"start\")\n",
    "    print(f\"weight={get_weight(train_dataset)}\\n\")"
   ]
  },
  {
   "cell_type": "code",
   "execution_count": null,
   "id": "c3838381-d999-4398-a0c7-075019c1c81f",
   "metadata": {},
   "outputs": [],
   "source": []
  }
 ],
 "metadata": {
  "kernelspec": {
   "display_name": "Python 3 (ipykernel)",
   "language": "python",
   "name": "python3"
  },
  "language_info": {
   "codemirror_mode": {
    "name": "ipython",
    "version": 3
   },
   "file_extension": ".py",
   "mimetype": "text/x-python",
   "name": "python",
   "nbconvert_exporter": "python",
   "pygments_lexer": "ipython3",
   "version": "3.8.10"
  }
 },
 "nbformat": 4,
 "nbformat_minor": 5
}
